{
 "cells": [
  {
   "cell_type": "markdown",
   "id": "8cd840e3-294f-4c41-a769-5ea65c04a20d",
   "metadata": {},
   "source": [
    "# Segunda tarea Mineria de datos.\n",
    "### Joan Nicolas Castro Cortes.\n",
    "### Bryan Camilo Riveros Guarnizo."
   ]
  },
  {
   "cell_type": "markdown",
   "id": "2b51416a-4cfd-4ea8-80c3-316f0b6c33ba",
   "metadata": {},
   "source": [
    "## Segundo punto."
   ]
  },
  {
   "cell_type": "markdown",
   "id": "8c739913-4836-4615-9b9a-a00c999610e1",
   "metadata": {
    "tags": []
   },
   "source": [
    "### Primer ejercicio.\n",
    "Cree un diccionario con las apellidos de las jugadoras de la seleccion Colombiana Femenina de futbol que jugaron como titulares en el ultimo partido por copa América (Colombia Vs Brasil) e incluya el numero de cada una de ellas. Ademas realice:\n",
    "1. Contar el numero de Elementos dentro del diccionario.\n",
    "2. Modificar el nombre que se encuentra en el diccionario, agregando el nombre de cada una de las jugadoras.\n",
    "3. Imprima en pantalla una cadena ue diga \"La goleadora del torneo fue \"????\", utilice los indices para ingresar a la informacion del diccionario.\n",
    "4. Muestre todas las jugadoras menores a 20 años y eliminelas del diccionario creado.\n"
   ]
  },
  {
   "cell_type": "code",
   "execution_count": 11,
   "id": "b21ead22-0a2f-47d6-a92f-ebc564b3b226",
   "metadata": {},
   "outputs": [
    {
     "name": "stdout",
     "output_type": "stream",
     "text": [
      "<class 'dict'>\n",
      "11\n",
      "{1: 'Natalia', 13: 'Ana', 17: 'Kelly', 3: 'Angela', 4: 'Yunaira', 6: 'Ilana', 10: 'Liced', 8: 'Camila', 9: 'Gabriela', 11: 'Linda', 7: 'Gisela'}\n",
      "La goleadora del torneo fue Linda\n",
      "<class 'dict'>\n",
      "Natalia\n",
      "Ana\n",
      "Ilana\n",
      "Gabriela\n"
     ]
    }
   ],
   "source": [
    "#Solución.\n",
    "##0\n",
    "futbolistas = {\n",
    "    1: \"Giraldo\", 13: \"Guzman\",\n",
    "    17: \"Caicedo\", 3: \"Barón\",\n",
    "    4: \"López\", 6: \"Izquierdo\",\n",
    "    10: \"Serna\", 8: \"Reyes\",\n",
    "    9: \"Rodriguez\", 11: \"Caicedo\",\n",
    "    7: \"Robledo\"\n",
    "}\n",
    "print(type(futbolistas))\n",
    "##1\n",
    "print(len(futbolistas.keys()))\n",
    "##2\n",
    "futbolistas.update({\n",
    "    1: \"Natalia\", 13: \"Ana\",\n",
    "    17: \"Kelly\", 3: \"Angela\",\n",
    "    4: \"Yunaira\", 6: \"Ilana\",\n",
    "    10: \"Liced\", 8: \"Camila\",\n",
    "    9: \"Gabriela\", 11: \"Linda\",\n",
    "    7: \"Gisela\"})\n",
    "print(futbolistas)\n",
    "##3\n",
    "print('La goleadora del torneo fue',futbolistas[11])\n",
    "##4\n",
    "edades=dict([(1,19),(13,17),(17,23),(3,22),(4,20),(6,18),(10,21),(8,21),(9,19),(11,22),(7,21)])\n",
    "print(type(edades))\n",
    "NombreLista=[]\n",
    "for i in edades.keys():\n",
    "  if edades.get(i)<20:\n",
    "     NombreLista.append(i)\n",
    "\n",
    "for i in NombreLista:\n",
    "    print(futbolistas.get(i))"
   ]
  },
  {
   "cell_type": "markdown",
   "id": "5ae6643c-3056-4715-bcf5-b8b46efb3927",
   "metadata": {},
   "source": [
    "### Segundo ejercicio.\n",
    "Defina un diccionario de al menos 4 llaves de tal manera que esas llaves sean tuplas. Acceda a cada elemento. ¿Puede hacer lo mismo para una llave que sea definida como lista o diccionario? (Ejercicio tomado de las notas de clase.)"
   ]
  },
  {
   "cell_type": "code",
   "execution_count": 12,
   "id": "1a51cce1-27a8-4890-acee-ba38316a5442",
   "metadata": {},
   "outputs": [
    {
     "name": "stdout",
     "output_type": "stream",
     "text": [
      "[1964, 1965, 1966, 1967, 1968, 1969]\n",
      "['Ford', 'Chevrolet', 'Dodge']\n"
     ]
    }
   ],
   "source": [
    "#Solución.\n",
    "dictCars = {\n",
    "  ('Marca',1,\"a\"): [\"Ford\",\"Chevrolet\",\"Dodge\"],\n",
    "  ('Electrico',2): [False,True],\n",
    "  ('Año'): [1964,1965,1966,1967,1968,1969],\n",
    "  ('Colores',4,\"hola\"): [\"Rojo\", \"Gris\", \"Azul\"]\n",
    "}\n",
    "print(dictCars[('Año')])\n",
    "print(dictCars[('Marca',1,\"a\")])\n",
    "\n"
   ]
  },
  {
   "cell_type": "code",
   "execution_count": 13,
   "id": "eb938c7b-57d3-4e7d-a618-0495108ffbc9",
   "metadata": {},
   "outputs": [
    {
     "ename": "TypeError",
     "evalue": "unhashable type: 'list'",
     "output_type": "error",
     "traceback": [
      "\u001b[1;31m---------------------------------------------------------------------------\u001b[0m",
      "\u001b[1;31mTypeError\u001b[0m                                 Traceback (most recent call last)",
      "Input \u001b[1;32mIn [13]\u001b[0m, in \u001b[0;36m<cell line: 1>\u001b[1;34m()\u001b[0m\n\u001b[1;32m----> 1\u001b[0m dictCars[[\u001b[38;5;124m\"\u001b[39m\u001b[38;5;124mModelo\u001b[39m\u001b[38;5;124m\"\u001b[39m]]\u001b[38;5;241m=\u001b[39m[\u001b[38;5;124m\"\u001b[39m\u001b[38;5;124mMustang\u001b[39m\u001b[38;5;124m\"\u001b[39m,\u001b[38;5;124m\"\u001b[39m\u001b[38;5;124mCamaro\u001b[39m\u001b[38;5;124m\"\u001b[39m,\u001b[38;5;124m\"\u001b[39m\u001b[38;5;124mChallenger\u001b[39m\u001b[38;5;124m\"\u001b[39m]\n",
      "\u001b[1;31mTypeError\u001b[0m: unhashable type: 'list'"
     ]
    }
   ],
   "source": [
    "dictCars[[\"Modelo\"]]=[\"Mustang\",\"Camaro\",\"Challenger\"]"
   ]
  },
  {
   "cell_type": "markdown",
   "id": "6bc24df8-f6cb-4b33-a9e9-70924990d5f5",
   "metadata": {},
   "source": [
    "Debido a que las listas son objetos \"unhashable\", no es posible definir listas como keys de un diccionario. "
   ]
  },
  {
   "cell_type": "code",
   "execution_count": null,
   "id": "60a3862b-3556-4d84-b375-0f54b44c11f6",
   "metadata": {},
   "outputs": [],
   "source": [
    "dictCars[{1:\"Modelos\"}]=[\"Mustang\",\"Camaro\",\"Challenger\"]"
   ]
  },
  {
   "cell_type": "markdown",
   "id": "23d65e01-9f08-4bfc-8819-2c320db4a375",
   "metadata": {},
   "source": [
    "Debido a que los diccionarios son objetos \"unhashable\", no es posible definir diccionarios como keys de un diccionario. "
   ]
  },
  {
   "cell_type": "markdown",
   "id": "c103e9f3-a5c8-4e65-aa5a-34f3ededfd45",
   "metadata": {},
   "source": [
    "## Cuarto punto."
   ]
  },
  {
   "cell_type": "code",
   "execution_count": 14,
   "id": "3ee4e07f-43e7-4046-a53f-391a0a69147a",
   "metadata": {},
   "outputs": [
    {
     "ename": "ImportError",
     "evalue": "Missing optional dependency 'openpyxl'.  Use pip or conda to install openpyxl.",
     "output_type": "error",
     "traceback": [
      "\u001b[1;31m---------------------------------------------------------------------------\u001b[0m",
      "\u001b[1;31mModuleNotFoundError\u001b[0m                       Traceback (most recent call last)",
      "File \u001b[1;32mC:\\ProgramData\\Miniconda3\\envs\\ejemplo\\lib\\site-packages\\pandas\\compat\\_optional.py:138\u001b[0m, in \u001b[0;36mimport_optional_dependency\u001b[1;34m(name, extra, errors, min_version)\u001b[0m\n\u001b[0;32m    137\u001b[0m \u001b[38;5;28;01mtry\u001b[39;00m:\n\u001b[1;32m--> 138\u001b[0m     module \u001b[38;5;241m=\u001b[39m \u001b[43mimportlib\u001b[49m\u001b[38;5;241;43m.\u001b[39;49m\u001b[43mimport_module\u001b[49m\u001b[43m(\u001b[49m\u001b[43mname\u001b[49m\u001b[43m)\u001b[49m\n\u001b[0;32m    139\u001b[0m \u001b[38;5;28;01mexcept\u001b[39;00m \u001b[38;5;167;01mImportError\u001b[39;00m:\n",
      "File \u001b[1;32mC:\\ProgramData\\Miniconda3\\envs\\ejemplo\\lib\\importlib\\__init__.py:126\u001b[0m, in \u001b[0;36mimport_module\u001b[1;34m(name, package)\u001b[0m\n\u001b[0;32m    125\u001b[0m         level \u001b[38;5;241m+\u001b[39m\u001b[38;5;241m=\u001b[39m \u001b[38;5;241m1\u001b[39m\n\u001b[1;32m--> 126\u001b[0m \u001b[38;5;28;01mreturn\u001b[39;00m \u001b[43m_bootstrap\u001b[49m\u001b[38;5;241;43m.\u001b[39;49m\u001b[43m_gcd_import\u001b[49m\u001b[43m(\u001b[49m\u001b[43mname\u001b[49m\u001b[43m[\u001b[49m\u001b[43mlevel\u001b[49m\u001b[43m:\u001b[49m\u001b[43m]\u001b[49m\u001b[43m,\u001b[49m\u001b[43m \u001b[49m\u001b[43mpackage\u001b[49m\u001b[43m,\u001b[49m\u001b[43m \u001b[49m\u001b[43mlevel\u001b[49m\u001b[43m)\u001b[49m\n",
      "File \u001b[1;32m<frozen importlib._bootstrap>:1050\u001b[0m, in \u001b[0;36m_gcd_import\u001b[1;34m(name, package, level)\u001b[0m\n",
      "File \u001b[1;32m<frozen importlib._bootstrap>:1027\u001b[0m, in \u001b[0;36m_find_and_load\u001b[1;34m(name, import_)\u001b[0m\n",
      "File \u001b[1;32m<frozen importlib._bootstrap>:1004\u001b[0m, in \u001b[0;36m_find_and_load_unlocked\u001b[1;34m(name, import_)\u001b[0m\n",
      "\u001b[1;31mModuleNotFoundError\u001b[0m: No module named 'openpyxl'",
      "\nDuring handling of the above exception, another exception occurred:\n",
      "\u001b[1;31mImportError\u001b[0m                               Traceback (most recent call last)",
      "Input \u001b[1;32mIn [14]\u001b[0m, in \u001b[0;36m<cell line: 6>\u001b[1;34m()\u001b[0m\n\u001b[0;32m      3\u001b[0m pd\u001b[38;5;241m.\u001b[39moptions\u001b[38;5;241m.\u001b[39mdisplay\u001b[38;5;241m.\u001b[39mfloat_format \u001b[38;5;241m=\u001b[39m \u001b[38;5;124m'\u001b[39m\u001b[38;5;132;01m{:,.2f}\u001b[39;00m\u001b[38;5;124m'\u001b[39m\u001b[38;5;241m.\u001b[39mformat\n\u001b[0;32m      4\u001b[0m direccion\u001b[38;5;241m=\u001b[39m\u001b[38;5;124m\"\u001b[39m\u001b[38;5;124mhttps://docs.google.com/spreadsheets/d/e/2PACX-1vQ-2wGHMjUkpX0Co-9_bTXnT6j2iPBEAD-JMjRBDOVfHMD6rKI43sEdhqPg-IjwQw/pub?output=xlsx\u001b[39m\u001b[38;5;124m\"\u001b[39m\n\u001b[1;32m----> 6\u001b[0m DatosBanco \u001b[38;5;241m=\u001b[39m \u001b[43mpd\u001b[49m\u001b[38;5;241;43m.\u001b[39;49m\u001b[43mread_excel\u001b[49m\u001b[43m(\u001b[49m\u001b[43mdireccion\u001b[49m\u001b[43m,\u001b[49m\u001b[43mheader\u001b[49m\u001b[38;5;241;43m=\u001b[39;49m\u001b[38;5;241;43m0\u001b[39;49m\u001b[43m)\u001b[49m\n",
      "File \u001b[1;32mC:\\ProgramData\\Miniconda3\\envs\\ejemplo\\lib\\site-packages\\pandas\\util\\_decorators.py:311\u001b[0m, in \u001b[0;36mdeprecate_nonkeyword_arguments.<locals>.decorate.<locals>.wrapper\u001b[1;34m(*args, **kwargs)\u001b[0m\n\u001b[0;32m    305\u001b[0m \u001b[38;5;28;01mif\u001b[39;00m \u001b[38;5;28mlen\u001b[39m(args) \u001b[38;5;241m>\u001b[39m num_allow_args:\n\u001b[0;32m    306\u001b[0m     warnings\u001b[38;5;241m.\u001b[39mwarn(\n\u001b[0;32m    307\u001b[0m         msg\u001b[38;5;241m.\u001b[39mformat(arguments\u001b[38;5;241m=\u001b[39marguments),\n\u001b[0;32m    308\u001b[0m         \u001b[38;5;167;01mFutureWarning\u001b[39;00m,\n\u001b[0;32m    309\u001b[0m         stacklevel\u001b[38;5;241m=\u001b[39mstacklevel,\n\u001b[0;32m    310\u001b[0m     )\n\u001b[1;32m--> 311\u001b[0m \u001b[38;5;28;01mreturn\u001b[39;00m func(\u001b[38;5;241m*\u001b[39margs, \u001b[38;5;241m*\u001b[39m\u001b[38;5;241m*\u001b[39mkwargs)\n",
      "File \u001b[1;32mC:\\ProgramData\\Miniconda3\\envs\\ejemplo\\lib\\site-packages\\pandas\\io\\excel\\_base.py:457\u001b[0m, in \u001b[0;36mread_excel\u001b[1;34m(io, sheet_name, header, names, index_col, usecols, squeeze, dtype, engine, converters, true_values, false_values, skiprows, nrows, na_values, keep_default_na, na_filter, verbose, parse_dates, date_parser, thousands, decimal, comment, skipfooter, convert_float, mangle_dupe_cols, storage_options)\u001b[0m\n\u001b[0;32m    455\u001b[0m \u001b[38;5;28;01mif\u001b[39;00m \u001b[38;5;129;01mnot\u001b[39;00m \u001b[38;5;28misinstance\u001b[39m(io, ExcelFile):\n\u001b[0;32m    456\u001b[0m     should_close \u001b[38;5;241m=\u001b[39m \u001b[38;5;28;01mTrue\u001b[39;00m\n\u001b[1;32m--> 457\u001b[0m     io \u001b[38;5;241m=\u001b[39m \u001b[43mExcelFile\u001b[49m\u001b[43m(\u001b[49m\u001b[43mio\u001b[49m\u001b[43m,\u001b[49m\u001b[43m \u001b[49m\u001b[43mstorage_options\u001b[49m\u001b[38;5;241;43m=\u001b[39;49m\u001b[43mstorage_options\u001b[49m\u001b[43m,\u001b[49m\u001b[43m \u001b[49m\u001b[43mengine\u001b[49m\u001b[38;5;241;43m=\u001b[39;49m\u001b[43mengine\u001b[49m\u001b[43m)\u001b[49m\n\u001b[0;32m    458\u001b[0m \u001b[38;5;28;01melif\u001b[39;00m engine \u001b[38;5;129;01mand\u001b[39;00m engine \u001b[38;5;241m!=\u001b[39m io\u001b[38;5;241m.\u001b[39mengine:\n\u001b[0;32m    459\u001b[0m     \u001b[38;5;28;01mraise\u001b[39;00m \u001b[38;5;167;01mValueError\u001b[39;00m(\n\u001b[0;32m    460\u001b[0m         \u001b[38;5;124m\"\u001b[39m\u001b[38;5;124mEngine should not be specified when passing \u001b[39m\u001b[38;5;124m\"\u001b[39m\n\u001b[0;32m    461\u001b[0m         \u001b[38;5;124m\"\u001b[39m\u001b[38;5;124man ExcelFile - ExcelFile already has the engine set\u001b[39m\u001b[38;5;124m\"\u001b[39m\n\u001b[0;32m    462\u001b[0m     )\n",
      "File \u001b[1;32mC:\\ProgramData\\Miniconda3\\envs\\ejemplo\\lib\\site-packages\\pandas\\io\\excel\\_base.py:1419\u001b[0m, in \u001b[0;36mExcelFile.__init__\u001b[1;34m(self, path_or_buffer, engine, storage_options)\u001b[0m\n\u001b[0;32m   1416\u001b[0m \u001b[38;5;28mself\u001b[39m\u001b[38;5;241m.\u001b[39mengine \u001b[38;5;241m=\u001b[39m engine\n\u001b[0;32m   1417\u001b[0m \u001b[38;5;28mself\u001b[39m\u001b[38;5;241m.\u001b[39mstorage_options \u001b[38;5;241m=\u001b[39m storage_options\n\u001b[1;32m-> 1419\u001b[0m \u001b[38;5;28mself\u001b[39m\u001b[38;5;241m.\u001b[39m_reader \u001b[38;5;241m=\u001b[39m \u001b[38;5;28;43mself\u001b[39;49m\u001b[38;5;241;43m.\u001b[39;49m\u001b[43m_engines\u001b[49m\u001b[43m[\u001b[49m\u001b[43mengine\u001b[49m\u001b[43m]\u001b[49m\u001b[43m(\u001b[49m\u001b[38;5;28;43mself\u001b[39;49m\u001b[38;5;241;43m.\u001b[39;49m\u001b[43m_io\u001b[49m\u001b[43m,\u001b[49m\u001b[43m \u001b[49m\u001b[43mstorage_options\u001b[49m\u001b[38;5;241;43m=\u001b[39;49m\u001b[43mstorage_options\u001b[49m\u001b[43m)\u001b[49m\n",
      "File \u001b[1;32mC:\\ProgramData\\Miniconda3\\envs\\ejemplo\\lib\\site-packages\\pandas\\io\\excel\\_openpyxl.py:524\u001b[0m, in \u001b[0;36mOpenpyxlReader.__init__\u001b[1;34m(self, filepath_or_buffer, storage_options)\u001b[0m\n\u001b[0;32m    509\u001b[0m \u001b[38;5;28;01mdef\u001b[39;00m \u001b[38;5;21m__init__\u001b[39m(\n\u001b[0;32m    510\u001b[0m     \u001b[38;5;28mself\u001b[39m,\n\u001b[0;32m    511\u001b[0m     filepath_or_buffer: FilePath \u001b[38;5;241m|\u001b[39m ReadBuffer[\u001b[38;5;28mbytes\u001b[39m],\n\u001b[0;32m    512\u001b[0m     storage_options: StorageOptions \u001b[38;5;241m=\u001b[39m \u001b[38;5;28;01mNone\u001b[39;00m,\n\u001b[0;32m    513\u001b[0m ) \u001b[38;5;241m-\u001b[39m\u001b[38;5;241m>\u001b[39m \u001b[38;5;28;01mNone\u001b[39;00m:\n\u001b[0;32m    514\u001b[0m     \u001b[38;5;124;03m\"\"\"\u001b[39;00m\n\u001b[0;32m    515\u001b[0m \u001b[38;5;124;03m    Reader using openpyxl engine.\u001b[39;00m\n\u001b[0;32m    516\u001b[0m \n\u001b[1;32m   (...)\u001b[0m\n\u001b[0;32m    522\u001b[0m \u001b[38;5;124;03m        passed to fsspec for appropriate URLs (see ``_get_filepath_or_buffer``)\u001b[39;00m\n\u001b[0;32m    523\u001b[0m \u001b[38;5;124;03m    \"\"\"\u001b[39;00m\n\u001b[1;32m--> 524\u001b[0m     \u001b[43mimport_optional_dependency\u001b[49m\u001b[43m(\u001b[49m\u001b[38;5;124;43m\"\u001b[39;49m\u001b[38;5;124;43mopenpyxl\u001b[39;49m\u001b[38;5;124;43m\"\u001b[39;49m\u001b[43m)\u001b[49m\n\u001b[0;32m    525\u001b[0m     \u001b[38;5;28msuper\u001b[39m()\u001b[38;5;241m.\u001b[39m\u001b[38;5;21m__init__\u001b[39m(filepath_or_buffer, storage_options\u001b[38;5;241m=\u001b[39mstorage_options)\n",
      "File \u001b[1;32mC:\\ProgramData\\Miniconda3\\envs\\ejemplo\\lib\\site-packages\\pandas\\compat\\_optional.py:141\u001b[0m, in \u001b[0;36mimport_optional_dependency\u001b[1;34m(name, extra, errors, min_version)\u001b[0m\n\u001b[0;32m    139\u001b[0m \u001b[38;5;28;01mexcept\u001b[39;00m \u001b[38;5;167;01mImportError\u001b[39;00m:\n\u001b[0;32m    140\u001b[0m     \u001b[38;5;28;01mif\u001b[39;00m errors \u001b[38;5;241m==\u001b[39m \u001b[38;5;124m\"\u001b[39m\u001b[38;5;124mraise\u001b[39m\u001b[38;5;124m\"\u001b[39m:\n\u001b[1;32m--> 141\u001b[0m         \u001b[38;5;28;01mraise\u001b[39;00m \u001b[38;5;167;01mImportError\u001b[39;00m(msg)\n\u001b[0;32m    142\u001b[0m     \u001b[38;5;28;01melse\u001b[39;00m:\n\u001b[0;32m    143\u001b[0m         \u001b[38;5;28;01mreturn\u001b[39;00m \u001b[38;5;28;01mNone\u001b[39;00m\n",
      "\u001b[1;31mImportError\u001b[0m: Missing optional dependency 'openpyxl'.  Use pip or conda to install openpyxl."
     ]
    }
   ],
   "source": [
    "import pandas as pd\n",
    "import numpy as np\n",
    "pd.options.display.float_format = '{:,.2f}'.format\n",
    "direccion=\"https://docs.google.com/spreadsheets/d/e/2PACX-1vQ-2wGHMjUkpX0Co-9_bTXnT6j2iPBEAD-JMjRBDOVfHMD6rKI43sEdhqPg-IjwQw/pub?output=xlsx\"\n",
    "\n",
    "DatosBanco = pd.read_excel(direccion,header=0)\n"
   ]
  },
  {
   "cell_type": "code",
   "execution_count": null,
   "id": "c07d66d2-1c5d-4a91-9120-95d518cab5f6",
   "metadata": {},
   "outputs": [],
   "source": [
    "print(DatosBanco)"
   ]
  },
  {
   "cell_type": "code",
   "execution_count": null,
   "id": "db3e4f3c-15ca-435b-8176-4dad83f8c04a",
   "metadata": {},
   "outputs": [],
   "source": [
    "DatosBanco.loc[0]"
   ]
  },
  {
   "cell_type": "code",
   "execution_count": null,
   "id": "d8d53ba1-dfdc-4d81-8c8a-43bf7b3566bb",
   "metadata": {},
   "outputs": [],
   "source": [
    "class Dbanco(object):\n",
    "    def __init__(self,decision):\n",
    "        self.val = 0\n",
    "        self.decision=decision\n",
    "    # Hace esta clase iterable\n",
    "    def __iter__(self):\n",
    "        return self\n",
    "    \n",
    "    # Hace esta clase un iterador\n",
    "    def __next__(self):\n",
    "        self.decision=input(\"¿Desea la siguiente cuenta?\")\n",
    "        if self.decision == \"si\":\n",
    "            return_val = DatosBanco.loc[self.val]\n",
    "            self.val += 1\n",
    "            #self.decision=input(\"¿Desea la siguiente cuenta?\")\n",
    "            return return_val\n",
    "        else:\n",
    "            print(\"Se ha terminado la búsqueda\")\n",
    "            raise StopIteration"
   ]
  },
  {
   "cell_type": "code",
   "execution_count": null,
   "id": "c94eb1b1-cc14-4499-bb0a-22dc774eaf9c",
   "metadata": {},
   "outputs": [],
   "source": [
    "print(\"Ingrese si para acceder a la primera cuenta del banco.\")\n",
    "for i in Dbanco(\"si\"):\n",
    "    print(i,end='\\n')\n"
   ]
  },
  {
   "cell_type": "code",
   "execution_count": null,
   "id": "ac3a5432-e2ed-4398-a592-6a1ad91c5e22",
   "metadata": {},
   "outputs": [],
   "source": []
  }
 ],
 "metadata": {
  "kernelspec": {
   "display_name": "Python 3 (ipykernel)",
   "language": "python",
   "name": "python3"
  },
  "language_info": {
   "codemirror_mode": {
    "name": "ipython",
    "version": 3
   },
   "file_extension": ".py",
   "mimetype": "text/x-python",
   "name": "python",
   "nbconvert_exporter": "python",
   "pygments_lexer": "ipython3",
   "version": "3.10.4"
  }
 },
 "nbformat": 4,
 "nbformat_minor": 5
}
